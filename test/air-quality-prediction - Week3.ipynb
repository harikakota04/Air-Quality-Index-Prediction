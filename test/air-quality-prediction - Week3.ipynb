{
 "cells": [
  {
   "cell_type": "markdown",
   "metadata": {},
   "source": [
    "# **Air Quality Forecast: Machine Learning Model**"
   ]
  },
  {
   "cell_type": "markdown",
   "metadata": {},
   "source": [
    "Air quality has a significant impact on human health and the environment. The main factors affecting air quality in India are:\n",
    "\n",
    "- PM2.5 and PM10: Particulate matter\n",
    "- NO, NO2, NOx: Nitrogen oxides\n",
    "- NH3: Ammonia\n",
    "- CO: Carbon monoxide\n",
    "- SO2: Sulfur dioxide\n",
    "- O3: Ozone\n",
    "- Benzene, Toluene, Xylene: Volatile organic compounds\n",
    "\n",
    "The primary goal of our air quality prediction model is to accurately forecast the Air Quality Index (AQI). AQI is an indicator that shows the level of air pollution and its effects on public health."
   ]
  },
  {
   "cell_type": "markdown",
   "metadata": {},
   "source": [
    "![AQI Mini Image](https://www.deq.ok.gov/wp-content/uploads/air-division/aqi_mini-768x432.png)\n",
    "\n"
   ]
  },
  {
   "cell_type": "markdown",
   "metadata": {},
   "source": [
    "Our model predicts future AQI values based on the levels of various pollutants that affect air quality. These predictions assist decision-makers in issuing health alerts, formulating environmental policies, optimizing traffic and industrial management, and helping the general public plan their daily activities."
   ]
  },
  {
   "cell_type": "markdown",
   "metadata": {},
   "source": [
    "**What is the business problem you are trying to solve using machine learning?**\n",
    "* The problem you are trying to solve in this project is to predict future Air Quality Index (AQI) values by analyzing the factors affecting AQI using machine learning algorithms. These predictions can be used to monitor air quality and develop improvement strategies. The goal is to identify the impact of various pollutant parameters (PM2.5, PM10, NO, NO2, NOx, NH3, CO, SO2, O3, Benzene, Toluene, Xylene) on AQI and to forecast AQI based on the future values of these parameters.\n",
    "\n",
    "**Why are we interested in solving this problem? What impact will it have on the business?**\n",
    "\n",
    "- Solving this problem is of great importance for public health, environmental sustainability, and the protection of biodiversity. Accurately predicting air quality allows authorities and the public to take measures against air pollution. For example, health alerts and precautions can be issued. Regulations and policies related to air pollution can be developed. Industrial and traffic management can be optimized. By providing a cleaner environment to society, the quality of life can be improved.\n",
    "\n",
    "**What are some known issues with the data? (data entry errors, missing data, unit differences, etc.)**\n",
    "- Missing Data: Several columns, including the target column, have missing values.\n",
    "- Unit Differences: The Date column initially had a data type of object and has been converted to Datetime. \n",
    "- Seasonal Variations: Seasonal effects can introduce variability in the data."
   ]
  },
  {
   "cell_type": "markdown",
   "metadata": {},
   "source": [
    "### Loading the required Library Packages"
   ]
  },
  {
   "cell_type": "code",
   "execution_count": null,
   "metadata": {
    "_cell_guid": "b1076dfc-b9ad-4769-8c92-a6c4dae69d19",
    "_uuid": "8f2839f25d086af736a60e9eeb907d3b93b6e0e5",
    "execution": {
     "iopub.execute_input": "2024-08-08T18:51:52.338585Z",
     "iopub.status.busy": "2024-08-08T18:51:52.338139Z",
     "iopub.status.idle": "2024-08-08T18:51:53.096700Z",
     "shell.execute_reply": "2024-08-08T18:51:53.095415Z",
     "shell.execute_reply.started": "2024-08-08T18:51:52.338544Z"
    }
   },
   "outputs": [],
   "source": [
    "# Install required libraries\n",
    "%pip install numpy pandas matplotlib seaborn scikit-learn\n",
    "import numpy as np # linear algebra\n",
    "import pandas as pd # data processing, CSV file I/O (e.g. pd.read_csv)\n",
    "import matplotlib.pyplot as plt\n",
    "import seaborn as sns\n",
    "import datetime\n",
    "from warnings import filterwarnings\n",
    "filterwarnings('ignore')\n",
    "\n",
    "from sklearn.preprocessing import LabelEncoder, StandardScaler\n",
    "from sklearn.model_selection import train_test_split\n",
    "from sklearn.linear_model import LinearRegression\n",
    "from sklearn.tree import DecisionTreeRegressor\n",
    "from sklearn.ensemble import RandomForestRegressor\n",
    "from sklearn import metrics\n",
    "from sklearn.metrics import mean_absolute_error, mean_squared_error, r2_score\n",
    "from sklearn.metrics import accuracy_score, confusion_matrix"
   ]
  },
  {
   "cell_type": "markdown",
   "metadata": {},
   "source": [
    "### Reading and exploring the Health Care Dataset"
   ]
  },
  {
   "cell_type": "code",
   "execution_count": null,
   "metadata": {},
   "outputs": [],
   "source": [
    "# Ensure pandas is imported\n",
    "import pandas as pd\n",
    "\n",
    "df = pd.read_csv('air quality data.csv')"
   ]
  },
  {
   "cell_type": "markdown",
   "metadata": {},
   "source": [
    "**ANALYZING THE DATASET**\n",
    "- Size, data types, null value rate, statistical information for each column"
   ]
  },
  {
   "cell_type": "code",
   "execution_count": null,
   "metadata": {
    "execution": {
     "iopub.execute_input": "2024-08-08T18:53:33.057815Z",
     "iopub.status.busy": "2024-08-08T18:53:33.057386Z",
     "iopub.status.idle": "2024-08-08T18:53:33.095871Z",
     "shell.execute_reply": "2024-08-08T18:53:33.094661Z",
     "shell.execute_reply.started": "2024-08-08T18:53:33.057781Z"
    }
   },
   "outputs": [],
   "source": [
    "df.head()"
   ]
  },
  {
   "cell_type": "code",
   "execution_count": null,
   "metadata": {
    "execution": {
     "iopub.execute_input": "2024-08-08T18:53:43.673884Z",
     "iopub.status.busy": "2024-08-08T18:53:43.672719Z",
     "iopub.status.idle": "2024-08-08T18:53:43.681146Z",
     "shell.execute_reply": "2024-08-08T18:53:43.679849Z",
     "shell.execute_reply.started": "2024-08-08T18:53:43.673844Z"
    }
   },
   "outputs": [],
   "source": [
    "# Checking the number of rows and columns of the dataset\n",
    "df.shape"
   ]
  },
  {
   "cell_type": "code",
   "execution_count": null,
   "metadata": {
    "execution": {
     "iopub.execute_input": "2024-08-08T18:53:51.771930Z",
     "iopub.status.busy": "2024-08-08T18:53:51.771541Z",
     "iopub.status.idle": "2024-08-08T18:53:51.808173Z",
     "shell.execute_reply": "2024-08-08T18:53:51.806997Z",
     "shell.execute_reply.started": "2024-08-08T18:53:51.771902Z"
    }
   },
   "outputs": [],
   "source": [
    "# Dataset Information Overview\n",
    "df.info()"
   ]
  },
  {
   "cell_type": "code",
   "execution_count": null,
   "metadata": {},
   "outputs": [],
   "source": [
    "df.isnull().sum()\n",
    "# There are a lot of missing values present in the dataset"
   ]
  },
  {
   "cell_type": "code",
   "execution_count": null,
   "metadata": {},
   "outputs": [],
   "source": [
    "# There no Duplicate values present in the dataset\n",
    "df.duplicated().sum()"
   ]
  },
  {
   "cell_type": "code",
   "execution_count": null,
   "metadata": {},
   "outputs": [],
   "source": [
    "# Drop rows where the 'AQI' column has missing values\n",
    "df1= df.dropna(subset=['AQI'],inplace=True)\n"
   ]
  },
  {
   "cell_type": "code",
   "execution_count": null,
   "metadata": {},
   "outputs": [],
   "source": [
    "df.isnull().sum().sort_values(ascending=False)"
   ]
  },
  {
   "cell_type": "code",
   "execution_count": null,
   "metadata": {},
   "outputs": [],
   "source": [
    "df.shape"
   ]
  },
  {
   "cell_type": "code",
   "execution_count": null,
   "metadata": {},
   "outputs": [],
   "source": []
  },
  {
   "cell_type": "code",
   "execution_count": null,
   "metadata": {
    "execution": {
     "iopub.execute_input": "2024-08-08T18:54:01.552984Z",
     "iopub.status.busy": "2024-08-08T18:54:01.552561Z",
     "iopub.status.idle": "2024-08-08T18:54:01.624485Z",
     "shell.execute_reply": "2024-08-08T18:54:01.623196Z",
     "shell.execute_reply.started": "2024-08-08T18:54:01.552951Z"
    }
   },
   "outputs": [],
   "source": [
    "# Summary Statistics for the Dataset\n",
    "df.describe().T "
   ]
  },
  {
   "cell_type": "code",
   "execution_count": null,
   "metadata": {},
   "outputs": [],
   "source": [
    "#in this DataFrame and the percentage of these null values \n",
    "null_values_percentage = (df.isnull().sum()/df.isnull().count()*100).sort_values(ascending=False)"
   ]
  },
  {
   "cell_type": "code",
   "execution_count": null,
   "metadata": {},
   "outputs": [],
   "source": [
    "null_values_percentage"
   ]
  },
  {
   "cell_type": "markdown",
   "metadata": {},
   "source": [
    "### Key Considerations:\n",
    "Xylene has the highest percentage of missing values (61.86%), so you'll need to decide whether to impute these values or drop the feature.\n",
    "\n",
    "PM10 and NH3 also have significant missing values (around 28-26%).\n",
    "\n",
    "No Missing Values:\n",
    "City, Date, AQI, and AQI_Bucket have 0% null values"
   ]
  },
  {
   "cell_type": "markdown",
   "metadata": {},
   "source": [
    "### Now we will start our Data Exploration using Visualization EDA - Univariate analysis for each feature"
   ]
  },
  {
   "cell_type": "code",
   "execution_count": null,
   "metadata": {},
   "outputs": [],
   "source": [
    "import matplotlib.pyplot as plt\n",
    "\n",
    "df['Xylene'].plot(kind='hist', figsize=(10, 5))\n",
    "plt.legend()\n",
    "plt.show()"
   ]
  },
  {
   "cell_type": "code",
   "execution_count": null,
   "metadata": {},
   "outputs": [],
   "source": [
    "df['PM10'].plot(kind='hist',figsize=(10,5))\n",
    "plt.legend()\n",
    "plt.show()"
   ]
  },
  {
   "cell_type": "code",
   "execution_count": null,
   "metadata": {},
   "outputs": [],
   "source": [
    "df['NH3'].plot(kind='hist',figsize=(10,5))\n",
    "plt.legend()\n",
    "plt.show()"
   ]
  },
  {
   "cell_type": "code",
   "execution_count": null,
   "metadata": {},
   "outputs": [],
   "source": [
    "df['Toluene'].plot(kind='hist',figsize=(10,5))\n",
    "plt.legend()\n",
    "plt.show()"
   ]
  },
  {
   "cell_type": "code",
   "execution_count": null,
   "metadata": {},
   "outputs": [],
   "source": [
    "df['Benzene'].plot(kind='hist',figsize=(10,5))\n",
    "plt.legend()\n",
    "plt.show()"
   ]
  },
  {
   "cell_type": "code",
   "execution_count": null,
   "metadata": {},
   "outputs": [],
   "source": [
    "df['NOx'].plot(kind='hist',figsize=(10,5))\n",
    "plt.legend()\n",
    "plt.show()"
   ]
  },
  {
   "cell_type": "code",
   "execution_count": null,
   "metadata": {},
   "outputs": [],
   "source": [
    "df['O3'].plot(kind='hist',figsize=(10,5))\n",
    "plt.legend()\n",
    "plt.show()"
   ]
  },
  {
   "cell_type": "code",
   "execution_count": null,
   "metadata": {},
   "outputs": [],
   "source": [
    "df['PM2.5'].plot(kind='hist',figsize=(10,5))\n",
    "plt.legend()\n",
    "plt.show()"
   ]
  },
  {
   "cell_type": "code",
   "execution_count": null,
   "metadata": {},
   "outputs": [],
   "source": [
    "df['SO2'].plot(kind='hist',figsize=(10,5))\n",
    "plt.legend()\n",
    "plt.show()"
   ]
  },
  {
   "cell_type": "code",
   "execution_count": null,
   "metadata": {},
   "outputs": [],
   "source": [
    "df['CO'].plot(kind='hist',figsize=(10,5))\n",
    "plt.legend()\n",
    "plt.show()"
   ]
  },
  {
   "cell_type": "code",
   "execution_count": null,
   "metadata": {},
   "outputs": [],
   "source": [
    "df['NO2'].plot(kind='hist',figsize=(10,5))\n",
    "plt.legend()\n",
    "plt.show()"
   ]
  },
  {
   "cell_type": "code",
   "execution_count": null,
   "metadata": {},
   "outputs": [],
   "source": [
    "df['NO'].plot(kind='hist',figsize=(10,5))\n",
    "plt.legend()\n",
    "plt.show()"
   ]
  },
  {
   "cell_type": "code",
   "execution_count": null,
   "metadata": {},
   "outputs": [],
   "source": [
    "df['AQI'].plot(kind='hist',figsize=(10,5))\n",
    "plt.legend()\n",
    "plt.show()"
   ]
  },
  {
   "cell_type": "code",
   "execution_count": null,
   "metadata": {},
   "outputs": [],
   "source": [
    "# distribution of aqi from 2015-2020\n",
    "import seaborn as sns  # Import Seaborn to fix the NameError\n",
    "sns.displot(df, x=\"AQI\", color=\"purple\")\n",
    "plt.show()"
   ]
  },
  {
   "cell_type": "markdown",
   "metadata": {},
   "source": [
    "In the below plot, we can see the frequency of the different city types present in the whole dataset."
   ]
  },
  {
   "cell_type": "markdown",
   "metadata": {},
   "source": [
    "### Bivariate analysis"
   ]
  },
  {
   "cell_type": "code",
   "execution_count": null,
   "metadata": {},
   "outputs": [],
   "source": [
    "sns.set(style=\"darkgrid\")\n",
    "graph=sns.catplot(x=\"City\",kind=\"count\",data=df,height=5,aspect=3)\n",
    "graph.set_xticklabels(rotation=90)"
   ]
  },
  {
   "cell_type": "markdown",
   "metadata": {},
   "source": [
    "In the below plot, we can see the frequency of all the city types for different \"AQI_Bucket\" variable, which are categorized as \"Poor\", \"Very Poor\", \"Severe\", \"Moderate\", \"Satisfactory\", \"Good\". It is basically so that we can get an idea of how frequency of different cities are distributed over \"AQI_Bucket\" variable. This will basically clear our idea about the data a bit more"
   ]
  },
  {
   "cell_type": "code",
   "execution_count": null,
   "metadata": {
    "scrolled": false
   },
   "outputs": [],
   "source": [
    "sns.set(style=\"darkgrid\")\n",
    "graph=sns.catplot(x=\"City\",kind=\"count\",data=df,col=\"AQI_Bucket\",col_wrap=2,height=3.5,aspect=3)\n",
    "graph.set_xticklabels(rotation=90)"
   ]
  },
  {
   "cell_type": "markdown",
   "metadata": {},
   "source": [
    "Below plots will be a sequence of boxplots, and the intention is to show the distribution of all the non-nulls numerical variables over the cities."
   ]
  },
  {
   "cell_type": "code",
   "execution_count": null,
   "metadata": {},
   "outputs": [],
   "source": [
    "graph1=sns.catplot(x=\"City\",y=\"PM2.5\",kind=\"box\",data=df,height=5,aspect=3)\n",
    "graph1.set_xticklabels(rotation=90)"
   ]
  },
  {
   "cell_type": "code",
   "execution_count": null,
   "metadata": {},
   "outputs": [],
   "source": [
    "graph2=sns.catplot(x=\"City\",y=\"NO2\",kind=\"box\",data=df,height=5,aspect=3)\n",
    "graph2.set_xticklabels(rotation=90)"
   ]
  },
  {
   "cell_type": "code",
   "execution_count": null,
   "metadata": {},
   "outputs": [],
   "source": [
    "graph3=sns.catplot(x=\"City\",y=\"O3\",data=df,kind=\"box\",height=5,aspect=3)\n",
    "graph3.set_xticklabels(rotation=90)"
   ]
  },
  {
   "cell_type": "code",
   "execution_count": null,
   "metadata": {},
   "outputs": [],
   "source": [
    "graph4=sns.catplot(x=\"City\",y=\"SO2\",data=df,kind=\"box\",height=5,aspect=3)\n",
    "graph4.set_xticklabels(rotation=90)"
   ]
  },
  {
   "cell_type": "code",
   "execution_count": null,
   "metadata": {},
   "outputs": [],
   "source": [
    "graph5=sns.catplot(data=df,kind=\"box\",x=\"City\",y=\"NOx\",height=6,aspect=3)\n",
    "graph5.set_xticklabels(rotation=90)"
   ]
  },
  {
   "cell_type": "code",
   "execution_count": null,
   "metadata": {},
   "outputs": [],
   "source": [
    "graph6=sns.catplot(data=df,kind=\"box\",x=\"City\",y=\"NO\",height=6,aspect=3)\n",
    "graph6.set_xticklabels(rotation=90)"
   ]
  },
  {
   "cell_type": "markdown",
   "metadata": {},
   "source": [
    "In the below plot, we are trying to see the frequencies of the different categories of the variable AQI_Bucket."
   ]
  },
  {
   "cell_type": "code",
   "execution_count": null,
   "metadata": {},
   "outputs": [],
   "source": [
    "graph7=sns.catplot(x=\"AQI_Bucket\",data=df,kind=\"count\",height=6,aspect=3)\n",
    "graph7.set_xticklabels(rotation=90)"
   ]
  },
  {
   "cell_type": "markdown",
   "metadata": {},
   "source": [
    "#### Checking all null values and treating those null values."
   ]
  },
  {
   "cell_type": "code",
   "execution_count": null,
   "metadata": {},
   "outputs": [],
   "source": [
    "# Checking all null values\n",
    "\n",
    "df.isnull().sum().sort_values(ascending=False)\n",
    "\n",
    "# higher null values present in PM10 followed by NH3"
   ]
  },
  {
   "cell_type": "code",
   "execution_count": null,
   "metadata": {},
   "outputs": [],
   "source": [
    "df.describe().loc[\"mean\"]"
   ]
  },
  {
   "cell_type": "code",
   "execution_count": null,
   "metadata": {},
   "outputs": [],
   "source": [
    "df = df.replace({\n",
    "\n",
    "\"PM2.5\" :{np.nan:67.476613},\n",
    "\"PM10\" :{np.nan:118.454435},\n",
    "\"NO\": {np.nan:17.622421},\n",
    "\"NO2\": {np.nan:28.978391},\n",
    "\"NOx\": {np.nan:32.289012},\n",
    "\"NH3\": {np.nan:23.848366},\n",
    "\"CO\":  {np.nan:2.345267},\n",
    "\"SO2\": {np.nan:34.912885},\n",
    "\"O3\": {np.nan:38.320547},\n",
    "\"Benzene\": {np.nan:3.458668},\n",
    "\"Toluene\": {np.nan:9.525714},\n",
    "\"Xylene\": {np.nan:3.588683}})\n"
   ]
  },
  {
   "cell_type": "code",
   "execution_count": null,
   "metadata": {},
   "outputs": [],
   "source": [
    "df.isnull().sum()"
   ]
  },
  {
   "cell_type": "code",
   "execution_count": null,
   "metadata": {},
   "outputs": [],
   "source": [
    "graph=sns.catplot(x=\"AQI_Bucket\",data=df,kind=\"count\",height=6,aspect=3)\n",
    "graph.set_xticklabels(rotation=90)"
   ]
  },
  {
   "cell_type": "markdown",
   "metadata": {},
   "source": [
    "We delete AQI_Bucket from the dataset because it is not a feature that affects air quality"
   ]
  },
  {
   "cell_type": "code",
   "execution_count": null,
   "metadata": {
    "execution": {
     "iopub.execute_input": "2024-08-08T18:59:13.761862Z",
     "iopub.status.busy": "2024-08-08T18:59:13.761417Z",
     "iopub.status.idle": "2024-08-08T18:59:13.772969Z",
     "shell.execute_reply": "2024-08-08T18:59:13.771599Z",
     "shell.execute_reply.started": "2024-08-08T18:59:13.761827Z"
    }
   },
   "outputs": [],
   "source": [
    "df = df.drop([\"AQI_Bucket\"], axis=1)"
   ]
  },
  {
   "cell_type": "code",
   "execution_count": null,
   "metadata": {
    "execution": {
     "iopub.execute_input": "2024-08-08T18:59:29.520485Z",
     "iopub.status.busy": "2024-08-08T18:59:29.519409Z",
     "iopub.status.idle": "2024-08-08T18:59:29.542935Z",
     "shell.execute_reply": "2024-08-08T18:59:29.541416Z",
     "shell.execute_reply.started": "2024-08-08T18:59:29.520444Z"
    }
   },
   "outputs": [],
   "source": [
    "df.head()"
   ]
  },
  {
   "cell_type": "markdown",
   "metadata": {},
   "source": [
    "### Detecting Outliers and Treatment"
   ]
  },
  {
   "cell_type": "markdown",
   "metadata": {},
   "source": [
    "We drew boxplots to observe outlier data."
   ]
  },
  {
   "cell_type": "code",
   "execution_count": null,
   "metadata": {
    "execution": {
     "iopub.execute_input": "2024-08-08T19:00:50.731647Z",
     "iopub.status.busy": "2024-08-08T19:00:50.730459Z",
     "iopub.status.idle": "2024-08-08T19:00:50.997783Z",
     "shell.execute_reply": "2024-08-08T19:00:50.996511Z",
     "shell.execute_reply.started": "2024-08-08T19:00:50.731604Z"
    }
   },
   "outputs": [],
   "source": [
    "sns.boxplot(data=df[[ 'PM2.5', 'PM10']])"
   ]
  },
  {
   "cell_type": "code",
   "execution_count": null,
   "metadata": {
    "execution": {
     "iopub.execute_input": "2024-08-08T18:59:51.332648Z",
     "iopub.status.busy": "2024-08-08T18:59:51.332217Z",
     "iopub.status.idle": "2024-08-08T18:59:51.641693Z",
     "shell.execute_reply": "2024-08-08T18:59:51.640580Z",
     "shell.execute_reply.started": "2024-08-08T18:59:51.332614Z"
    }
   },
   "outputs": [],
   "source": [
    "sns.boxplot(data=df[[ 'NO', 'NO2', 'NOx','NH3']]) "
   ]
  },
  {
   "cell_type": "code",
   "execution_count": null,
   "metadata": {
    "execution": {
     "iopub.execute_input": "2024-08-08T19:00:59.395465Z",
     "iopub.status.busy": "2024-08-08T19:00:59.395050Z",
     "iopub.status.idle": "2024-08-08T19:00:59.691036Z",
     "shell.execute_reply": "2024-08-08T19:00:59.689913Z",
     "shell.execute_reply.started": "2024-08-08T19:00:59.395431Z"
    }
   },
   "outputs": [],
   "source": [
    "sns.boxplot(data=df[[ 'O3', 'CO', 'SO2']])"
   ]
  },
  {
   "cell_type": "code",
   "execution_count": null,
   "metadata": {
    "execution": {
     "iopub.execute_input": "2024-08-08T19:01:16.427597Z",
     "iopub.status.busy": "2024-08-08T19:01:16.427138Z",
     "iopub.status.idle": "2024-08-08T19:01:16.722004Z",
     "shell.execute_reply": "2024-08-08T19:01:16.720796Z",
     "shell.execute_reply.started": "2024-08-08T19:01:16.427560Z"
    }
   },
   "outputs": [],
   "source": [
    "sns.boxplot(data=df[[ 'Benzene', 'Toluene', 'Xylene']])"
   ]
  },
  {
   "cell_type": "markdown",
   "metadata": {},
   "source": [
    "**DATA EDITING PROCEDURES**\n",
    "- Procedures related to outlier data, missing data, data that has little relationship with our target column"
   ]
  },
  {
   "cell_type": "markdown",
   "metadata": {},
   "source": [
    "We observed that there were too many outliers in our independent variables. We thought that the modeling we would do with this data would give us incorrect results, so we changed the outliers."
   ]
  },
  {
   "cell_type": "code",
   "execution_count": null,
   "metadata": {
    "execution": {
     "iopub.execute_input": "2024-08-08T19:04:38.070899Z",
     "iopub.status.busy": "2024-08-08T19:04:38.070351Z",
     "iopub.status.idle": "2024-08-08T19:04:38.371835Z",
     "shell.execute_reply": "2024-08-08T19:04:38.370621Z",
     "shell.execute_reply.started": "2024-08-08T19:04:38.070843Z"
    }
   },
   "outputs": [],
   "source": [
    "# This function takes a DataFrame as a parameter and identifies outliers for numeric columns in the DataFrame. \n",
    "#It replaces these outliers with the corresponding quartile values ​​(Q1 or Q3). Outliers are identified using the interquartile range (IQR).\n",
    "def replace_outliers_with_quartiles(df):\n",
    "    \n",
    "    for column in df.select_dtypes(include=['number']).columns: # Used to cycle through all numeric columns in the DataFrame.\n",
    "        Q1 = df[column].quantile(0.25)\n",
    "        Q3 = df[column].quantile(0.75)\n",
    "        IQR = Q3 - Q1\n",
    "        # To identify outliers, lower and upper limits are calculated and values ​​outside these limits are considered outliers.\n",
    "        lower_bound = Q1 - 1.5 * IQR\n",
    "        upper_bound = Q3 + 1.5 * IQR\n",
    "        # For each column, we identify outliers and replace them with Q1 or Q3. We do this using a lambda function.\n",
    "        #If the value is less than the lower bound, it is replaced with Q1. If it is greater than the upper bound, \n",
    "        #it is replaced with Q3. In the last case, the value is not changed and remains the same.\n",
    "        df[column] = df[column].apply(\n",
    "            lambda x: Q1 if x < lower_bound else (Q3 if x > upper_bound else x)\n",
    "        )\n",
    "    \n",
    "    return df \n",
    "\n",
    "df = replace_outliers_with_quartiles(df)"
   ]
  },
  {
   "cell_type": "code",
   "execution_count": null,
   "metadata": {
    "execution": {
     "iopub.execute_input": "2024-08-08T19:04:44.702732Z",
     "iopub.status.busy": "2024-08-08T19:04:44.702307Z",
     "iopub.status.idle": "2024-08-08T19:04:44.793720Z",
     "shell.execute_reply": "2024-08-08T19:04:44.792529Z",
     "shell.execute_reply.started": "2024-08-08T19:04:44.702698Z"
    }
   },
   "outputs": [],
   "source": [
    "df.describe().T"
   ]
  },
  {
   "cell_type": "markdown",
   "metadata": {},
   "source": [
    "We created another box plot for the data in the columns of the current DataFrame."
   ]
  },
  {
   "cell_type": "code",
   "execution_count": null,
   "metadata": {
    "execution": {
     "iopub.execute_input": "2024-08-08T19:04:56.058895Z",
     "iopub.status.busy": "2024-08-08T19:04:56.058457Z",
     "iopub.status.idle": "2024-08-08T19:04:56.306069Z",
     "shell.execute_reply": "2024-08-08T19:04:56.304841Z",
     "shell.execute_reply.started": "2024-08-08T19:04:56.058865Z"
    }
   },
   "outputs": [],
   "source": [
    "sns.boxplot(data=df[[ 'PM2.5', 'PM10']])"
   ]
  },
  {
   "cell_type": "code",
   "execution_count": null,
   "metadata": {
    "execution": {
     "iopub.execute_input": "2024-08-08T19:06:04.944041Z",
     "iopub.status.busy": "2024-08-08T19:06:04.943074Z",
     "iopub.status.idle": "2024-08-08T19:06:05.194476Z",
     "shell.execute_reply": "2024-08-08T19:06:05.193328Z",
     "shell.execute_reply.started": "2024-08-08T19:06:04.943933Z"
    }
   },
   "outputs": [],
   "source": [
    "sns.boxplot(data=df[[ 'NO', 'NO2', 'NOx','NH3']])"
   ]
  },
  {
   "cell_type": "code",
   "execution_count": null,
   "metadata": {
    "execution": {
     "iopub.execute_input": "2024-08-08T19:07:29.418118Z",
     "iopub.status.busy": "2024-08-08T19:07:29.417730Z",
     "iopub.status.idle": "2024-08-08T19:07:29.786375Z",
     "shell.execute_reply": "2024-08-08T19:07:29.785047Z",
     "shell.execute_reply.started": "2024-08-08T19:07:29.418089Z"
    }
   },
   "outputs": [],
   "source": [
    "sns.boxplot(data=df[[ 'O3', 'CO', 'SO2']])"
   ]
  },
  {
   "cell_type": "code",
   "execution_count": null,
   "metadata": {
    "execution": {
     "iopub.execute_input": "2024-08-08T19:06:12.899780Z",
     "iopub.status.busy": "2024-08-08T19:06:12.899370Z",
     "iopub.status.idle": "2024-08-08T19:06:13.103442Z",
     "shell.execute_reply": "2024-08-08T19:06:13.102179Z",
     "shell.execute_reply.started": "2024-08-08T19:06:12.899745Z"
    }
   },
   "outputs": [],
   "source": [
    "sns.boxplot(data=df[[ 'Benzene', 'Toluene', 'Xylene']])"
   ]
  },
  {
   "cell_type": "code",
   "execution_count": null,
   "metadata": {},
   "outputs": [],
   "source": [
    "# distribution of aqi from 2015-2020\n",
    "sns.displot(df, x=\"AQI\", color=\"red\")\n",
    "plt.show()"
   ]
  },
  {
   "cell_type": "code",
   "execution_count": null,
   "metadata": {
    "execution": {
     "iopub.execute_input": "2024-08-08T19:07:51.145410Z",
     "iopub.status.busy": "2024-08-08T19:07:51.144954Z",
     "iopub.status.idle": "2024-08-08T19:07:51.154787Z",
     "shell.execute_reply": "2024-08-08T19:07:51.153552Z",
     "shell.execute_reply.started": "2024-08-08T19:07:51.145374Z"
    }
   },
   "outputs": [],
   "source": [
    "df1=df.drop(columns=['City'])"
   ]
  },
  {
   "cell_type": "markdown",
   "metadata": {},
   "source": [
    "#### Multivariate analysis"
   ]
  },
  {
   "cell_type": "code",
   "execution_count": null,
   "metadata": {
    "execution": {
     "iopub.execute_input": "2024-08-08T19:08:20.193274Z",
     "iopub.status.busy": "2024-08-08T19:08:20.192834Z",
     "iopub.status.idle": "2024-08-08T19:08:21.134052Z",
     "shell.execute_reply": "2024-08-08T19:08:21.132745Z",
     "shell.execute_reply.started": "2024-08-08T19:08:20.193223Z"
    }
   },
   "outputs": [],
   "source": [
    "plt.figure(figsize=(12, 8)) \n",
    "sns.heatmap(df1.select_dtypes(include=['number']).corr(), annot=True) \n",
    "plt.show() "
   ]
  },
  {
   "cell_type": "markdown",
   "metadata": {},
   "source": [
    "The most important variables affecting the AQI value appear to be PM2.5, PM10, CO and NOx.We will make predictions based on data above 0.25"
   ]
  },
  {
   "cell_type": "code",
   "execution_count": null,
   "metadata": {
    "execution": {
     "iopub.execute_input": "2024-08-08T19:10:02.944480Z",
     "iopub.status.busy": "2024-08-08T19:10:02.944036Z",
     "iopub.status.idle": "2024-08-08T19:10:02.964644Z",
     "shell.execute_reply": "2024-08-08T19:10:02.963534Z",
     "shell.execute_reply.started": "2024-08-08T19:10:02.944445Z"
    }
   },
   "outputs": [],
   "source": [
    "df.head()"
   ]
  },
  {
   "cell_type": "markdown",
   "metadata": {},
   "source": [
    "**PREPARING THE DATA**\n",
    "- Determining the numerical and categorical columns of the data set, filling the empty values ​​with scaler, applying onehotencoding to categorical data, separating the data set into training, test and validation data sets, determining the input and target columns of the data sets we separated"
   ]
  },
  {
   "cell_type": "code",
   "execution_count": null,
   "metadata": {},
   "outputs": [],
   "source": [
    "df.columns"
   ]
  },
  {
   "cell_type": "code",
   "execution_count": null,
   "metadata": {},
   "outputs": [],
   "source": [
    "# Dropping unnecessary columns\n",
    "df.drop(['Date'],axis=1,inplace=True)        # no need of this feature\n",
    "df.drop(['City'],axis=1,inplace=True)        # as we are going to calculate based on other parameters not on the loaction so we drop this"
   ]
  },
  {
   "cell_type": "code",
   "execution_count": null,
   "metadata": {},
   "outputs": [],
   "source": [
    "df"
   ]
  },
  {
   "cell_type": "code",
   "execution_count": null,
   "metadata": {},
   "outputs": [],
   "source": [
    "from sklearn.preprocessing import StandardScaler\n",
    "df1 = StandardScaler().fit_transform(df)"
   ]
  },
  {
   "cell_type": "code",
   "execution_count": null,
   "metadata": {},
   "outputs": [],
   "source": [
    "df1"
   ]
  },
  {
   "cell_type": "code",
   "execution_count": null,
   "metadata": {},
   "outputs": [],
   "source": [
    "df = pd.DataFrame(df1,columns = df.columns)"
   ]
  },
  {
   "cell_type": "code",
   "execution_count": null,
   "metadata": {},
   "outputs": [],
   "source": [
    "df"
   ]
  },
  {
   "cell_type": "markdown",
   "metadata": {},
   "source": [
    "**DATA MODELING**"
   ]
  },
  {
   "cell_type": "code",
   "execution_count": null,
   "metadata": {},
   "outputs": [],
   "source": [
    "# Data Preparation for Modeling\n",
    "x=df[[\"PM2.5\",\"PM10\",\"NO\",\"NO2\",\"NOx\",\"NH3\",\"CO\",\"SO2\",\"O3\",\"Benzene\",\"Toluene\",\"Xylene\"]]\n",
    "y=df[\"AQI\"]"
   ]
  },
  {
   "cell_type": "code",
   "execution_count": null,
   "metadata": {},
   "outputs": [],
   "source": [
    "x.head()"
   ]
  },
  {
   "cell_type": "code",
   "execution_count": null,
   "metadata": {},
   "outputs": [],
   "source": [
    "y.head()"
   ]
  },
  {
   "cell_type": "code",
   "execution_count": null,
   "metadata": {},
   "outputs": [],
   "source": [
    "X_train,X_test,Y_train,Y_test=train_test_split(x,y,test_size=0.2,random_state=70)\n",
    "print(X_train.shape,X_test.shape,Y_train.shape,Y_test.shape)\n",
    "# splitting the data into training and testing data"
   ]
  },
  {
   "cell_type": "markdown",
   "metadata": {},
   "source": [
    "## Applying an appropriate Regression algorithm to build a model."
   ]
  },
  {
   "cell_type": "markdown",
   "metadata": {},
   "source": [
    "#### Random Forest Regressor"
   ]
  },
  {
   "cell_type": "code",
   "execution_count": null,
   "metadata": {},
   "outputs": [],
   "source": [
    "import pickle\n",
    "from sklearn.ensemble import RandomForestRegressor\n",
    "from sklearn.model_selection import train_test_split\n",
    "from sklearn.datasets import make_regression\n",
    "\n",
    "# Generate a sample dataset\n",
    "X, y = make_regression(n_samples=100, n_features=4, noise=0.1, random_state=42)\n",
    "\n",
    "# Split the dataset\n",
    "X_train, X_test, y_train, y_test = train_test_split(X, y, test_size=0.2, random_state=42)\n",
    "\n",
    "# Train a RandomForest model\n",
    "model = RandomForestRegressor(random_state=42)\n",
    "model.fit(X_train, y_train)\n",
    "\n",
    "# Save the trained model\n",
    "with open(\"air_quality_prediction.pkl\", \"wb\") as f:\n",
    "    pickle.dump(model, f)\n",
    "\n",
    "print(\"Model trained and saved successfully!\")"
   ]
  },
  {
   "cell_type": "markdown",
   "metadata": {},
   "source": [
    "The R² score for the train data indicates that the model’s ability to explain the variability in the air quality data is very low. This means that the model is not learning the relationships between air pollution and other air quality factors effectively"
   ]
  },
  {
   "cell_type": "code",
   "execution_count": null,
   "metadata": {},
   "outputs": [],
   "source": [
    "import pickle\n",
    "\n",
    "# Save the trained model\n",
    "with open(\"air_quality_prediction.pkl\", \"wb\") as f:\n",
    "    pickle.dump(model, f) # type: ignore\n",
    "\n",
    "print(\"Model saved successfully!\")"
   ]
  },
  {
   "cell_type": "markdown",
   "metadata": {},
   "source": [
    "### Model Accuracy Comparison"
   ]
  },
  {
   "cell_type": "markdown",
   "metadata": {},
   "source": [
    "Inferences from Model Accuracy Comparison\n",
    "\n",
    "RandomForest Performs Well:\n",
    "\n",
    "Among the algorithms tested, RandomForest exhibits the highest RSquared at  0.9775989 on Train and 0.847178 on Test.\n",
    "\n"
   ]
  },
  {
   "cell_type": "markdown",
   "metadata": {},
   "source": [
    "The R² score on the training dataset was obtained as 97.75%. This indicates that the model was able to explain a large portion of the variance of the target variable in the training data, i.e. 97.75%. In other words, the model predicted the air quality variables in the training data correctly for the most part and was able to capture a large portion of the data meaningfully"
   ]
  },
  {
   "cell_type": "markdown",
   "metadata": {},
   "source": [
    "The R² score on the test dataset was obtained as 84.71%. This indicates that the model was able to explain 84.71% of the target variable in the test data. The model has also shown high success on new data that it has not seen before, indicating that the model provides strong accuracy in air quality predictions and is effective on new data"
   ]
  },
  {
   "cell_type": "markdown",
   "metadata": {},
   "source": [
    "# -------------------------------------------------------END---------------------------------------------"
   ]
  }
 ],
 "metadata": {
  "kaggle": {
   "accelerator": "none",
   "dataSources": [
    {
     "datasetId": 630055,
     "sourceId": 1377609,
     "sourceType": "datasetVersion"
    }
   ],
   "dockerImageVersionId": 30746,
   "isGpuEnabled": false,
   "isInternetEnabled": false,
   "language": "python",
   "sourceType": "notebook"
  },
  "kernelspec": {
   "display_name": "aqi_project",
   "language": "python",
   "name": "python3"
  },
  "language_info": {
   "codemirror_mode": {
    "name": "ipython",
    "version": 3
   },
   "file_extension": ".py",
   "mimetype": "text/x-python",
   "name": "python",
   "nbconvert_exporter": "python",
   "pygments_lexer": "ipython3",
   "version": "3.12.9"
  },
  "varInspector": {
   "cols": {
    "lenName": 16,
    "lenType": 16,
    "lenVar": 40
   },
   "kernels_config": {
    "python": {
     "delete_cmd_postfix": "",
     "delete_cmd_prefix": "del ",
     "library": "var_list.py",
     "varRefreshCmd": "print(var_dic_list())"
    },
    "r": {
     "delete_cmd_postfix": ") ",
     "delete_cmd_prefix": "rm(",
     "library": "var_list.r",
     "varRefreshCmd": "cat(var_dic_list()) "
    }
   },
   "types_to_exclude": [
    "module",
    "function",
    "builtin_function_or_method",
    "instance",
    "_Feature"
   ],
   "window_display": false
  }
 },
 "nbformat": 4,
 "nbformat_minor": 4
}
